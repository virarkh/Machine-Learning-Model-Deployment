{
 "cells": [
  {
   "cell_type": "markdown",
   "id": "01df0dff",
   "metadata": {},
   "source": [
    "# Use Case Summary"
   ]
  },
  {
   "cell_type": "markdown",
   "id": "1a1bc92b",
   "metadata": {},
   "source": [
    "## Objective Statement\n",
    "- Get business insight about how growth visitors and buyers in a month at Supermarket\n",
    "- Get business insight about each visitors based on label defined such as Wandering Customer, Need-Based Customer and Loyal Customers at Supermarket\n",
    "- Create modeling using Simple Linear Regression\n",
    "- Deployment machine learning using MLflow"
   ]
  },
  {
   "cell_type": "markdown",
   "id": "f86006c7",
   "metadata": {},
   "source": [
    "# Challenges\n",
    "- It is not known what time and what day this Supermarket operates\n"
   ]
  },
  {
   "cell_type": "markdown",
   "id": "ab0004af",
   "metadata": {},
   "source": [
    "## Methodology\n",
    "- Descriptive Analysis\n",
    "- Graph Analysis\n",
    "- Machine learning Simple Linear Regression\n",
    "- Deployment MLflow"
   ]
  },
  {
   "cell_type": "markdown",
   "id": "abe82d5e",
   "metadata": {},
   "source": [
    "## Business Benefit\n",
    "- Know how to treat visitors based on their behavior when buy products in Supermarket\n",
    "- Help the business team provide products or services based on the behavior of each customer"
   ]
  },
  {
   "cell_type": "markdown",
   "id": "67ef1cfc",
   "metadata": {},
   "source": [
    "## Expected Outcome\n",
    "- Know how growth visitors and buyers in a month at Supermarket\n",
    "- Know each visitors based on label defined such as Wandering Customer, Need-Based Customer and Loyal Customers at Supermarket\n",
    "- Know how create machine learning model using Linear Regression\n",
    "- Know how to deploy machine learning using MLflow"
   ]
  },
  {
   "cell_type": "markdown",
   "id": "b925482d",
   "metadata": {},
   "source": [
    "# Business Understanding\n",
    "Supermarket is a place that sells a variety of goods, such as food, drinks to household goods. Every day there are always visitors who come to buy or maybe just look around product that Supermarket display. So from here we get questions about visitors as follows:\n",
    "- How growth visitors and buyers in a month at Supermarket ?\n",
    "- How each vistors based on label defined such as Wandering Customer, Need-Based Customer and Loyal Customers at Supermarket ?\n",
    "- How create machine learning using Linear Regression ?\n",
    "- How deploy machine learning using MLflow ?"
   ]
  },
  {
   "cell_type": "markdown",
   "id": "b8b33782",
   "metadata": {},
   "source": [
    "# Data Understanding"
   ]
  },
  {
   "cell_type": "markdown",
   "id": "fd5bcd0e",
   "metadata": {},
   "source": [
    "## Source Data\n",
    "The dataset has 2 columns and 30 rows, contains daily total visitors and buyers for a month. We get dataset from this site https://www.kaggle.com/datasets/reyanmatrika/supermarket-visitor-linear-regression"
   ]
  },
  {
   "cell_type": "markdown",
   "id": "e4678085",
   "metadata": {},
   "source": [
    "## Data Dictionary\n",
    "- Visitor : the number of people who visit the supermarket\n",
    "- Buyer : the number of person who buys something in a supermarket"
   ]
  },
  {
   "cell_type": "markdown",
   "id": "6b1acb75",
   "metadata": {},
   "source": [
    "# Data Preparation\n",
    "- Programming Language : Python Version 3.9.12\n",
    "- Library : pandas, numpy, matplotlib, seaborn, statistics, sklearn, warning, urlparse, mflow, logging, os, sys"
   ]
  },
  {
   "cell_type": "markdown",
   "id": "64108b4a",
   "metadata": {},
   "source": [
    "# Data Profiling"
   ]
  },
  {
   "cell_type": "markdown",
   "id": "5506c82b",
   "metadata": {},
   "source": [
    "## Import library"
   ]
  },
  {
   "cell_type": "markdown",
   "id": "672676bf",
   "metadata": {},
   "source": [
    "We use some libraries from python needed to create machine learning simple linear regression"
   ]
  },
  {
   "cell_type": "code",
   "execution_count": 1,
   "id": "7a1b8977",
   "metadata": {},
   "outputs": [],
   "source": [
    "# pip install mlflow"
   ]
  },
  {
   "cell_type": "code",
   "execution_count": 2,
   "id": "b16264ac",
   "metadata": {},
   "outputs": [],
   "source": [
    "import os\n",
    "import warnings\n",
    "import sys\n",
    "import pandas as pd\n",
    "import numpy as np\n",
    "import matplotlib.pyplot as plt\n",
    "import seaborn as sns\n",
    "import statistics\n",
    "\n",
    "from sklearn.linear_model import LinearRegression\n",
    "from sklearn.model_selection import train_test_split\n",
    "from sklearn.metrics import mean_absolute_error, mean_absolute_percentage_error, mean_squared_error, r2_score\n",
    "\n",
    "import warnings\n",
    "warnings.filterwarnings('ignore')"
   ]
  },
  {
   "cell_type": "markdown",
   "id": "6b92fc7c",
   "metadata": {},
   "source": [
    "load the dataset that we use and save in df variable"
   ]
  },
  {
   "cell_type": "code",
   "execution_count": 3,
   "id": "387eb5b2",
   "metadata": {},
   "outputs": [],
   "source": [
    "df = pd.read_csv('supermarket_visitor.csv')"
   ]
  },
  {
   "cell_type": "markdown",
   "id": "aa81b789",
   "metadata": {},
   "source": [
    "Display the top 5 rows of the dataset"
   ]
  },
  {
   "cell_type": "code",
   "execution_count": 4,
   "id": "74c13eb5",
   "metadata": {},
   "outputs": [
    {
     "data": {
      "text/html": [
       "<div>\n",
       "<style scoped>\n",
       "    .dataframe tbody tr th:only-of-type {\n",
       "        vertical-align: middle;\n",
       "    }\n",
       "\n",
       "    .dataframe tbody tr th {\n",
       "        vertical-align: top;\n",
       "    }\n",
       "\n",
       "    .dataframe thead th {\n",
       "        text-align: right;\n",
       "    }\n",
       "</style>\n",
       "<table border=\"1\" class=\"dataframe\">\n",
       "  <thead>\n",
       "    <tr style=\"text-align: right;\">\n",
       "      <th></th>\n",
       "      <th>Visitor</th>\n",
       "      <th>Buyer</th>\n",
       "    </tr>\n",
       "  </thead>\n",
       "  <tbody>\n",
       "    <tr>\n",
       "      <th>0</th>\n",
       "      <td>34</td>\n",
       "      <td>32</td>\n",
       "    </tr>\n",
       "    <tr>\n",
       "      <th>1</th>\n",
       "      <td>38</td>\n",
       "      <td>36</td>\n",
       "    </tr>\n",
       "    <tr>\n",
       "      <th>2</th>\n",
       "      <td>34</td>\n",
       "      <td>31</td>\n",
       "    </tr>\n",
       "    <tr>\n",
       "      <th>3</th>\n",
       "      <td>40</td>\n",
       "      <td>38</td>\n",
       "    </tr>\n",
       "    <tr>\n",
       "      <th>4</th>\n",
       "      <td>30</td>\n",
       "      <td>29</td>\n",
       "    </tr>\n",
       "  </tbody>\n",
       "</table>\n",
       "</div>"
      ],
      "text/plain": [
       "   Visitor  Buyer\n",
       "0       34     32\n",
       "1       38     36\n",
       "2       34     31\n",
       "3       40     38\n",
       "4       30     29"
      ]
     },
     "execution_count": 4,
     "metadata": {},
     "output_type": "execute_result"
    }
   ],
   "source": [
    "df.head()"
   ]
  },
  {
   "cell_type": "markdown",
   "id": "9f960be0",
   "metadata": {},
   "source": [
    "The table above displays the top 5 rows of the supermarket dataset"
   ]
  },
  {
   "cell_type": "markdown",
   "id": "17cf2378",
   "metadata": {},
   "source": [
    "Display total rows and data type each columns"
   ]
  },
  {
   "cell_type": "code",
   "execution_count": 5,
   "id": "6114a13b",
   "metadata": {},
   "outputs": [
    {
     "name": "stdout",
     "output_type": "stream",
     "text": [
      "<class 'pandas.core.frame.DataFrame'>\n",
      "RangeIndex: 30 entries, 0 to 29\n",
      "Data columns (total 2 columns):\n",
      " #   Column   Non-Null Count  Dtype\n",
      "---  ------   --------------  -----\n",
      " 0   Visitor  30 non-null     int64\n",
      " 1   Buyer    30 non-null     int64\n",
      "dtypes: int64(2)\n",
      "memory usage: 608.0 bytes\n"
     ]
    }
   ],
   "source": [
    "df.info()"
   ]
  },
  {
   "cell_type": "markdown",
   "id": "8760a941",
   "metadata": {},
   "source": [
    "The supermarket_visitor dataset store **2 columns** with **30 rows** of data. Where is a **visitor column** store data about the total visitors and a **buyer column** store data about the total buyers in a supermarket."
   ]
  },
  {
   "cell_type": "markdown",
   "id": "8dd8d85c",
   "metadata": {},
   "source": [
    "# Data Cleaning"
   ]
  },
  {
   "cell_type": "markdown",
   "id": "01728810",
   "metadata": {},
   "source": [
    "**No need to cleaning dataset** because the data types of both two columns are correct and there are no missing value in rows"
   ]
  },
  {
   "cell_type": "markdown",
   "id": "26b34d32",
   "metadata": {},
   "source": [
    "# Exploratory Data Analysis"
   ]
  },
  {
   "cell_type": "markdown",
   "id": "60907696",
   "metadata": {},
   "source": [
    "Display statistics descriptive dataset"
   ]
  },
  {
   "cell_type": "code",
   "execution_count": 6,
   "id": "2f6a20f9",
   "metadata": {},
   "outputs": [
    {
     "data": {
      "text/html": [
       "<div>\n",
       "<style scoped>\n",
       "    .dataframe tbody tr th:only-of-type {\n",
       "        vertical-align: middle;\n",
       "    }\n",
       "\n",
       "    .dataframe tbody tr th {\n",
       "        vertical-align: top;\n",
       "    }\n",
       "\n",
       "    .dataframe thead th {\n",
       "        text-align: right;\n",
       "    }\n",
       "</style>\n",
       "<table border=\"1\" class=\"dataframe\">\n",
       "  <thead>\n",
       "    <tr style=\"text-align: right;\">\n",
       "      <th></th>\n",
       "      <th>count</th>\n",
       "      <th>mean</th>\n",
       "      <th>std</th>\n",
       "      <th>min</th>\n",
       "      <th>25%</th>\n",
       "      <th>50%</th>\n",
       "      <th>75%</th>\n",
       "      <th>max</th>\n",
       "    </tr>\n",
       "  </thead>\n",
       "  <tbody>\n",
       "    <tr>\n",
       "      <th>Visitor</th>\n",
       "      <td>30.0</td>\n",
       "      <td>35.2</td>\n",
       "      <td>3.763711</td>\n",
       "      <td>29.0</td>\n",
       "      <td>32.00</td>\n",
       "      <td>35.0</td>\n",
       "      <td>38.0</td>\n",
       "      <td>42.0</td>\n",
       "    </tr>\n",
       "    <tr>\n",
       "      <th>Buyer</th>\n",
       "      <td>30.0</td>\n",
       "      <td>33.4</td>\n",
       "      <td>2.647054</td>\n",
       "      <td>29.0</td>\n",
       "      <td>31.25</td>\n",
       "      <td>33.0</td>\n",
       "      <td>36.0</td>\n",
       "      <td>38.0</td>\n",
       "    </tr>\n",
       "  </tbody>\n",
       "</table>\n",
       "</div>"
      ],
      "text/plain": [
       "         count  mean       std   min    25%   50%   75%   max\n",
       "Visitor   30.0  35.2  3.763711  29.0  32.00  35.0  38.0  42.0\n",
       "Buyer     30.0  33.4  2.647054  29.0  31.25  33.0  36.0  38.0"
      ]
     },
     "execution_count": 6,
     "metadata": {},
     "output_type": "execute_result"
    }
   ],
   "source": [
    "\n",
    "    df.describe().T\n"
   ]
  },
  {
   "cell_type": "markdown",
   "id": "8064e1bd",
   "metadata": {},
   "source": [
    "We assumed within 30 days, the **average visitors** in a supermarket **up to 35 visitors per day**. When the supermarket **not crowded**, there are only about **29 people per day**. But when the **supermarket is crowded**, visitors can reach **up to 42 visitors per day**.\n",
    "Meanwhile the average of visitors who **make purchases up to 33 visitors**. When supermarket is **crowded, up to 38 people make purchases**. And only **29 visitors** make purchases when supermarket **not crowded**. "
   ]
  },
  {
   "cell_type": "markdown",
   "id": "ea5af767",
   "metadata": {},
   "source": [
    "Calculate total visitors, total buyers and percentage of buyers from all total visitors"
   ]
  },
  {
   "cell_type": "code",
   "execution_count": 7,
   "id": "efd4d614",
   "metadata": {},
   "outputs": [
    {
     "name": "stdout",
     "output_type": "stream",
     "text": [
      "Total Visitor :  1056\n",
      "Total Buyer :  1002\n",
      "Percentage :  94.89\n"
     ]
    }
   ],
   "source": [
    "total_visitor = df['Visitor'].sum()\n",
    "total_buyer = df['Buyer'].sum()\n",
    "percentage = round((total_buyer/total_visitor)*100,2)\n",
    "\n",
    "print('Total Visitor : ', total_visitor)\n",
    "print('Total Buyer : ', total_buyer)\n",
    "print('Percentage : ',percentage)"
   ]
  },
  {
   "cell_type": "markdown",
   "id": "554aea8f",
   "metadata": {},
   "source": [
    "We assumed within 30 days, **94.89% visitors make purchases** in supermarket. Whereas total visitors in supermarket up to 1056 visitors and total visitors make purchases up to 1002 visitors. "
   ]
  },
  {
   "cell_type": "markdown",
   "id": "a2b00687",
   "metadata": {},
   "source": [
    "We create a distribution plot to see the distribution of data in the Visitor column"
   ]
  },
  {
   "cell_type": "code",
   "execution_count": 8,
   "id": "8c371c87",
   "metadata": {},
   "outputs": [
    {
     "data": {
      "image/png": "[encoded data removed]",
      "text/plain": [
       "<Figure size 640x480 with 1 Axes>"
      ]
     },
     "metadata": {},
     "output_type": "display_data"
    }
   ],
   "source": [
    "sns.distplot(df['Visitor']);"
   ]
  },
  {
   "cell_type": "markdown",
   "id": "0f113528",
   "metadata": {},
   "source": [
    "From the chart above, we can see that the distribution of data ranges from **30 to 40 visitors per day**."
   ]
  },
  {
   "cell_type": "markdown",
   "id": "053ff261",
   "metadata": {},
   "source": [
    "We create a distribution plot to see the distribution of data in the Buyer column"
   ]
  },
  {
   "cell_type": "code",
   "execution_count": 9,
   "id": "c91b5cbf",
   "metadata": {},
   "outputs": [
    {
     "data": {
      "image/png": "[encoded data removed]",
      "text/plain": [
       "<Figure size 640x480 with 1 Axes>"
      ]
     },
     "metadata": {},
     "output_type": "display_data"
    }
   ],
   "source": [
    "sns.distplot(df['Buyer']);"
   ]
  },
  {
   "cell_type": "markdown",
   "id": "6002c834",
   "metadata": {},
   "source": [
    "From the data above, we can see that the number of buyers every day ranges from **30 to 38 people**."
   ]
  },
  {
   "cell_type": "markdown",
   "id": "43281a8b",
   "metadata": {},
   "source": [
    "We calculate the mode, mean, and median of data in the Visitor and Buyer column"
   ]
  },
  {
   "cell_type": "code",
   "execution_count": 10,
   "id": "fd242e8a",
   "metadata": {},
   "outputs": [],
   "source": [
    "# mode_visitor = statistics.mode(df['Visitor'])\n",
    "# mode_buyer = statistics.mode(df['Buyer'])\n",
    "\n",
    "# print('Mode Visitor : ',mode_visitor)\n",
    "# print('Mode Buyer : ',mode_buyer)"
   ]
  },
  {
   "cell_type": "code",
   "execution_count": 11,
   "id": "b66d1214",
   "metadata": {},
   "outputs": [
    {
     "name": "stdout",
     "output_type": "stream",
     "text": [
      "Mode Visitor :  36\n",
      "Mean Visitor :  35.2\n",
      "Median Visitor :  35.0\n",
      "Mode Buyer :  32\n",
      "Mean Buyer :  33.4\n",
      "Median Buyer :  33.0\n"
     ]
    }
   ],
   "source": [
    "print('Mode Visitor : ',df['Visitor'].mode()[0])\n",
    "print('Mean Visitor : ',df['Visitor'].mean())\n",
    "print('Median Visitor : ',df['Visitor'].median())\n",
    "print('Mode Buyer : ',statistics.mode(df['Buyer']))\n",
    "print('Mean Buyer : ',df['Buyer'].mean())\n",
    "print('Median Buyer : ',df['Buyer'].median())"
   ]
  },
  {
   "cell_type": "markdown",
   "id": "6f50c439",
   "metadata": {},
   "source": [
    "It is known that the distribution of data from the two columns, Visitor column and Buyer column is not normal distribution"
   ]
  },
  {
   "cell_type": "markdown",
   "id": "cd0eef6b",
   "metadata": {},
   "source": [
    "We are labeling visitors based on their behavior"
   ]
  },
  {
   "cell_type": "code",
   "execution_count": 12,
   "id": "2b0d7224",
   "metadata": {},
   "outputs": [
    {
     "name": "stdout",
     "output_type": "stream",
     "text": [
      "Wandering Customers :  22\n",
      "Need-Based Customers :  1\n",
      "Loyal Customers :  7\n"
     ]
    }
   ],
   "source": [
    "Wandering = df[df['Visitor'] > df['Buyer']].shape[0]\n",
    "Need_Based = df[df['Visitor'] == df['Buyer']].shape[0]\n",
    "Loyal = df[df['Visitor'] < df['Buyer']].shape[0]\n",
    "\n",
    "print('Wandering Customers : ',Wandering)\n",
    "print('Need-Based Customers : ',Need_Based)\n",
    "print('Loyal Customers : ',Loyal)"
   ]
  },
  {
   "cell_type": "markdown",
   "id": "85ec82e5",
   "metadata": {},
   "source": [
    "We are converting the labeling results into dataframe"
   ]
  },
  {
   "cell_type": "code",
   "execution_count": 13,
   "id": "aca2e0a0",
   "metadata": {},
   "outputs": [
    {
     "data": {
      "text/html": [
       "<div>\n",
       "<style scoped>\n",
       "    .dataframe tbody tr th:only-of-type {\n",
       "        vertical-align: middle;\n",
       "    }\n",
       "\n",
       "    .dataframe tbody tr th {\n",
       "        vertical-align: top;\n",
       "    }\n",
       "\n",
       "    .dataframe thead th {\n",
       "        text-align: right;\n",
       "    }\n",
       "</style>\n",
       "<table border=\"1\" class=\"dataframe\">\n",
       "  <thead>\n",
       "    <tr style=\"text-align: right;\">\n",
       "      <th></th>\n",
       "      <th>Type Visitor</th>\n",
       "      <th>Numbers Visitor</th>\n",
       "    </tr>\n",
       "  </thead>\n",
       "  <tbody>\n",
       "    <tr>\n",
       "      <th>1</th>\n",
       "      <td>Need-Based Customers</td>\n",
       "      <td>1</td>\n",
       "    </tr>\n",
       "    <tr>\n",
       "      <th>2</th>\n",
       "      <td>Loyal Customers</td>\n",
       "      <td>7</td>\n",
       "    </tr>\n",
       "    <tr>\n",
       "      <th>0</th>\n",
       "      <td>Wandering Customers</td>\n",
       "      <td>22</td>\n",
       "    </tr>\n",
       "  </tbody>\n",
       "</table>\n",
       "</div>"
      ],
      "text/plain": [
       "           Type Visitor  Numbers Visitor\n",
       "1  Need-Based Customers                1\n",
       "2       Loyal Customers                7\n",
       "0   Wandering Customers               22"
      ]
     },
     "execution_count": 13,
     "metadata": {},
     "output_type": "execute_result"
    }
   ],
   "source": [
    "data = [['Wandering Customers', 22], ['Need-Based Customers', 1], ['Loyal Customers', 7]]\n",
    "\n",
    "df_type = pd.DataFrame(data, columns=['Type Visitor', 'Numbers Visitor'])\n",
    "df_type = df_type.sort_values(['Numbers Visitor'], ascending=True)\n",
    "\n",
    "df_type"
   ]
  },
  {
   "cell_type": "markdown",
   "id": "525d88d4",
   "metadata": {},
   "source": [
    "We are plotting the results from visitor labeling to see the numbers of visitor based on their category."
   ]
  },
  {
   "cell_type": "code",
   "execution_count": 14,
   "id": "1e219574",
   "metadata": {},
   "outputs": [
    {
     "data": {
      "image/png": "[encoded data removed]",
      "text/plain": [
       "<Figure size 700x500 with 1 Axes>"
      ]
     },
     "metadata": {},
     "output_type": "display_data"
    }
   ],
   "source": [
    "plt.figure(figsize=(7, 5))\n",
    "plt.bar(df_type['Type Visitor'], df_type['Numbers Visitor'])\n",
    "plt.show()"
   ]
  },
  {
   "cell_type": "markdown",
   "id": "be0c348d",
   "metadata": {},
   "source": [
    "Within 30 days all visitors in supermarket can be grouped into 3 categories based on their behavior, it is **Wandering Customers, Loyal Customers and Need Based Customers**.\n",
    "\n",
    "Wandering Customers are the type of visitors who only look at the products offered. Then there are Loyal Customers are visitors purchase product offered repeatedly. And the last Need-Based Customers are visitors who only buy based on what is their needed.\n",
    "\n",
    "From the graph above, it is known that in **22 days** there are supermarket visitors **who only look** at the products offered or called Wandering Customers. For **7 days** there are visitors who **buy more than 1 product** offered or called Loyal Customers. And only **1 day** visitors who actually **buy what they need** or called Need-Based Customers."
   ]
  },
  {
   "cell_type": "markdown",
   "id": "90f9546d",
   "metadata": {},
   "source": [
    "We create scatter plot to see relation between visitor and buyer"
   ]
  },
  {
   "cell_type": "code",
   "execution_count": 15,
   "id": "d1ca6f49",
   "metadata": {},
   "outputs": [
    {
     "data": {
      "text/plain": [
       "<AxesSubplot:xlabel='Visitor', ylabel='Buyer'>"
      ]
     },
     "execution_count": 15,
     "metadata": {},
     "output_type": "execute_result"
    },
    {
     "data": {
      "image/png": "[encoded data removed]",
      "text/plain": [
       "<Figure size 640x480 with 1 Axes>"
      ]
     },
     "metadata": {},
     "output_type": "display_data"
    }
   ],
   "source": [
    "sns.scatterplot(x = df['Visitor'], y=df['Buyer'],data=df)"
   ]
  },
  {
   "cell_type": "markdown",
   "id": "cf64fdd3",
   "metadata": {},
   "source": [
    "From the scatter plot above we can see that the relation between visitor and buyer **aren't significantly strong** because they don't make a significant up hill pattern."
   ]
  },
  {
   "cell_type": "markdown",
   "id": "374a7cff",
   "metadata": {},
   "source": [
    "We create a heatmap to see the correlation value between buyer and visitor."
   ]
  },
  {
   "cell_type": "code",
   "execution_count": 16,
   "id": "c8bcf730",
   "metadata": {},
   "outputs": [
    {
     "data": {
      "text/plain": [
       "<AxesSubplot:>"
      ]
     },
     "execution_count": 16,
     "metadata": {},
     "output_type": "execute_result"
    },
    {
     "data": {
      "image/png": "[encoded data removed]",
      "text/plain": [
       "<Figure size 700x500 with 2 Axes>"
      ]
     },
     "metadata": {},
     "output_type": "display_data"
    }
   ],
   "source": [
    "plt.figure(figsize=(7, 5))\n",
    "sns.heatmap(df.corr(), annot=True)"
   ]
  },
  {
   "cell_type": "markdown",
   "id": "d618e89e",
   "metadata": {},
   "source": [
    "From the heatmap we can see the corellation value between buyer and visitor is 0.57, which means buyer and visitor variable have a **moderate correlation**"
   ]
  },
  {
   "cell_type": "markdown",
   "id": "77d0edb6",
   "metadata": {},
   "source": [
    "We are comparing the growth between visitor and buyer with line chart."
   ]
  },
  {
   "cell_type": "code",
   "execution_count": 17,
   "id": "a7735759",
   "metadata": {},
   "outputs": [
    {
     "data": {
      "text/plain": [
       "<AxesSubplot:>"
      ]
     },
     "execution_count": 17,
     "metadata": {},
     "output_type": "execute_result"
    },
    {
     "data": {
      "image/png": "[encoded data removed]",
      "text/plain": [
       "<Figure size 1000x500 with 1 Axes>"
      ]
     },
     "metadata": {},
     "output_type": "display_data"
    }
   ],
   "source": [
    "plt.figure(figsize=(10, 5))\n",
    "sns.lineplot(data=df)"
   ]
  },
  {
   "cell_type": "markdown",
   "id": "b5dd8738",
   "metadata": {},
   "source": [
    "From the graph it can be seen that the growth of buyers has not changed significantly. But if we see the visitor graph there are in days 12 and 14 the number of visitor reaches the highest number. This probably caused by a event where people just wandering around without make a purchased."
   ]
  },
  {
   "cell_type": "markdown",
   "id": "13a8fab3",
   "metadata": {},
   "source": [
    "# Preprocessing Model"
   ]
  },
  {
   "cell_type": "markdown",
   "id": "9659ccc1",
   "metadata": {},
   "source": [
    "We determine column Y, using Buyer column"
   ]
  },
  {
   "cell_type": "code",
   "execution_count": 18,
   "id": "d37b73a5",
   "metadata": {},
   "outputs": [],
   "source": [
    "X = df.drop(['Buyer'], axis=1)\n",
    "y = df['Buyer']"
   ]
  },
  {
   "cell_type": "markdown",
   "id": "6f5496f8",
   "metadata": {},
   "source": [
    "After determine the Y column, we split the dataset to training model and testing model with the proportion of 1/3"
   ]
  },
  {
   "cell_type": "code",
   "execution_count": 19,
   "id": "c0becd19",
   "metadata": {},
   "outputs": [],
   "source": [
    "X_train, X_test, y_train, y_test = train_test_split(X, y, train_size = 1/3, random_state = 42)"
   ]
  },
  {
   "cell_type": "markdown",
   "id": "6f5ea8cd",
   "metadata": {},
   "source": [
    "We display total rows to train and test"
   ]
  },
  {
   "cell_type": "code",
   "execution_count": 20,
   "id": "468108df",
   "metadata": {},
   "outputs": [
    {
     "name": "stdout",
     "output_type": "stream",
     "text": [
      "X_train = (10, 1)\n",
      "X_test = (20, 1)\n",
      "y_train = (10,)\n",
      "y_test = (20,)\n"
     ]
    }
   ],
   "source": [
    "print('X_train =',X_train.shape)\n",
    "print('X_test =',X_test.shape)\n",
    "print('y_train =',y_train.shape)\n",
    "print('y_test =',y_test.shape)"
   ]
  },
  {
   "cell_type": "markdown",
   "id": "3c958bdc",
   "metadata": {},
   "source": [
    "# Modeling"
   ]
  },
  {
   "cell_type": "markdown",
   "id": "496317f0",
   "metadata": {},
   "source": [
    "Modeling Simple linear regression is a regression model that estimates the relationship between one independent variable and one dependent variable using a straight line.\n",
    "\n",
    "In this case we will chose a linear regression model to predict y variables. After we choose the model we train the model to training dataset"
   ]
  },
  {
   "cell_type": "code",
   "execution_count": 21,
   "id": "36e4bf32",
   "metadata": {},
   "outputs": [
    {
     "data": {
      "text/html": [
       "<style>#sk-container-id-1 {color: black;background-color: white;}#sk-container-id-1 pre{padding: 0;}#sk-container-id-1 div.sk-toggleable {background-color: white;}#sk-container-id-1 label.sk-toggleable__label {cursor: pointer;display: block;width: 100%;margin-bottom: 0;padding: 0.3em;box-sizing: border-box;text-align: center;}#sk-container-id-1 label.sk-toggleable__label-arrow:before {content: \"▸\";float: left;margin-right: 0.25em;color: #696969;}#sk-container-id-1 label.sk-toggleable__label-arrow:hover:before {color: black;}#sk-container-id-1 div.sk-estimator:hover label.sk-toggleable__label-arrow:before {color: black;}#sk-container-id-1 div.sk-toggleable__content {max-height: 0;max-width: 0;overflow: hidden;text-align: left;background-color: #f0f8ff;}#sk-container-id-1 div.sk-toggleable__content pre {margin: 0.2em;color: black;border-radius: 0.25em;background-color: #f0f8ff;}#sk-container-id-1 input.sk-toggleable__control:checked~div.sk-toggleable__content {max-height: 200px;max-width: 100%;overflow: auto;}#sk-container-id-1 input.sk-toggleable__control:checked~label.sk-toggleable__label-arrow:before {content: \"▾\";}#sk-container-id-1 div.sk-estimator input.sk-toggleable__control:checked~label.sk-toggleable__label {background-color: #d4ebff;}#sk-container-id-1 div.sk-label input.sk-toggleable__control:checked~label.sk-toggleable__label {background-color: #d4ebff;}#sk-container-id-1 input.sk-hidden--visually {border: 0;clip: rect(1px 1px 1px 1px);clip: rect(1px, 1px, 1px, 1px);height: 1px;margin: -1px;overflow: hidden;padding: 0;position: absolute;width: 1px;}#sk-container-id-1 div.sk-estimator {font-family: monospace;background-color: #f0f8ff;border: 1px dotted black;border-radius: 0.25em;box-sizing: border-box;margin-bottom: 0.5em;}#sk-container-id-1 div.sk-estimator:hover {background-color: #d4ebff;}#sk-container-id-1 div.sk-parallel-item::after {content: \"\";width: 100%;border-bottom: 1px solid gray;flex-grow: 1;}#sk-container-id-1 div.sk-label:hover label.sk-toggleable__label {background-color: #d4ebff;}#sk-container-id-1 div.sk-serial::before {content: \"\";position: absolute;border-left: 1px solid gray;box-sizing: border-box;top: 0;bottom: 0;left: 50%;z-index: 0;}#sk-container-id-1 div.sk-serial {display: flex;flex-direction: column;align-items: center;background-color: white;padding-right: 0.2em;padding-left: 0.2em;position: relative;}#sk-container-id-1 div.sk-item {position: relative;z-index: 1;}#sk-container-id-1 div.sk-parallel {display: flex;align-items: stretch;justify-content: center;background-color: white;position: relative;}#sk-container-id-1 div.sk-item::before, #sk-container-id-1 div.sk-parallel-item::before {content: \"\";position: absolute;border-left: 1px solid gray;box-sizing: border-box;top: 0;bottom: 0;left: 50%;z-index: -1;}#sk-container-id-1 div.sk-parallel-item {display: flex;flex-direction: column;z-index: 1;position: relative;background-color: white;}#sk-container-id-1 div.sk-parallel-item:first-child::after {align-self: flex-end;width: 50%;}#sk-container-id-1 div.sk-parallel-item:last-child::after {align-self: flex-start;width: 50%;}#sk-container-id-1 div.sk-parallel-item:only-child::after {width: 0;}#sk-container-id-1 div.sk-dashed-wrapped {border: 1px dashed gray;margin: 0 0.4em 0.5em 0.4em;box-sizing: border-box;padding-bottom: 0.4em;background-color: white;}#sk-container-id-1 div.sk-label label {font-family: monospace;font-weight: bold;display: inline-block;line-height: 1.2em;}#sk-container-id-1 div.sk-label-container {text-align: center;}#sk-container-id-1 div.sk-container {/* jupyter's `normalize.less` sets `[hidden] { display: none; }` but bootstrap.min.css set `[hidden] { display: none !important; }` so we also need the `!important` here to be able to override the default hidden behavior on the sphinx rendered scikit-learn.org. See: https://github.com/scikit-learn/scikit-learn/issues/21755 */display: inline-block !important;position: relative;}#sk-container-id-1 div.sk-text-repr-fallback {display: none;}</style><div id=\"sk-container-id-1\" class=\"sk-top-container\"><div class=\"sk-text-repr-fallback\"><pre>LinearRegression()</pre><b>In a Jupyter environment, please rerun this cell to show the HTML representation or trust the notebook. <br />On GitHub, the HTML representation is unable to render, please try loading this page with nbviewer.org.</b></div><div class=\"sk-container\" hidden><div class=\"sk-item\"><div class=\"sk-estimator sk-toggleable\"><input class=\"sk-toggleable__control sk-hidden--visually\" id=\"sk-estimator-id-1\" type=\"checkbox\" checked><label for=\"sk-estimator-id-1\" class=\"sk-toggleable__label sk-toggleable__label-arrow\">LinearRegression</label><div class=\"sk-toggleable__content\"><pre>LinearRegression()</pre></div></div></div></div></div>"
      ],
      "text/plain": [
       "LinearRegression()"
      ]
     },
     "execution_count": 21,
     "metadata": {},
     "output_type": "execute_result"
    }
   ],
   "source": [
    "regressor = LinearRegression()\n",
    "regressor.fit(X_train, y_train)"
   ]
  },
  {
   "cell_type": "markdown",
   "id": "210d2d38",
   "metadata": {},
   "source": [
    "After we train the model, we display the coefficient."
   ]
  },
  {
   "cell_type": "code",
   "execution_count": 22,
   "id": "9026ad35",
   "metadata": {},
   "outputs": [
    {
     "data": {
      "text/plain": [
       "array([0.30986888])"
      ]
     },
     "execution_count": 22,
     "metadata": {},
     "output_type": "execute_result"
    }
   ],
   "source": [
    "regressor.coef_"
   ]
  },
  {
   "cell_type": "markdown",
   "id": "8680487c",
   "metadata": {},
   "source": [
    "After we train and see the coefficient, we will test the model to predict Y variable based on X dataset."
   ]
  },
  {
   "cell_type": "code",
   "execution_count": 23,
   "id": "a1008061",
   "metadata": {},
   "outputs": [],
   "source": [
    "y_pred = regressor.predict(X_test)"
   ]
  },
  {
   "cell_type": "markdown",
   "id": "ca6ee946",
   "metadata": {},
   "source": [
    "Compare predict result with data actual, and then convert to dataframe"
   ]
  },
  {
   "cell_type": "code",
   "execution_count": 24,
   "id": "168d9581",
   "metadata": {},
   "outputs": [
    {
     "data": {
      "text/html": [
       "<div>\n",
       "<style scoped>\n",
       "    .dataframe tbody tr th:only-of-type {\n",
       "        vertical-align: middle;\n",
       "    }\n",
       "\n",
       "    .dataframe tbody tr th {\n",
       "        vertical-align: top;\n",
       "    }\n",
       "\n",
       "    .dataframe thead th {\n",
       "        text-align: right;\n",
       "    }\n",
       "</style>\n",
       "<table border=\"1\" class=\"dataframe\">\n",
       "  <thead>\n",
       "    <tr style=\"text-align: right;\">\n",
       "      <th></th>\n",
       "      <th>Actual</th>\n",
       "      <th>Predict</th>\n",
       "    </tr>\n",
       "  </thead>\n",
       "  <tbody>\n",
       "    <tr>\n",
       "      <th>27</th>\n",
       "      <td>34</td>\n",
       "      <td>32.378882</td>\n",
       "    </tr>\n",
       "    <tr>\n",
       "      <th>15</th>\n",
       "      <td>38</td>\n",
       "      <td>31.139406</td>\n",
       "    </tr>\n",
       "    <tr>\n",
       "      <th>23</th>\n",
       "      <td>35</td>\n",
       "      <td>31.139406</td>\n",
       "    </tr>\n",
       "    <tr>\n",
       "      <th>17</th>\n",
       "      <td>30</td>\n",
       "      <td>30.829538</td>\n",
       "    </tr>\n",
       "    <tr>\n",
       "      <th>8</th>\n",
       "      <td>32</td>\n",
       "      <td>32.069013</td>\n",
       "    </tr>\n",
       "  </tbody>\n",
       "</table>\n",
       "</div>"
      ],
      "text/plain": [
       "    Actual    Predict\n",
       "27      34  32.378882\n",
       "15      38  31.139406\n",
       "23      35  31.139406\n",
       "17      30  30.829538\n",
       "8       32  32.069013"
      ]
     },
     "execution_count": 24,
     "metadata": {},
     "output_type": "execute_result"
    }
   ],
   "source": [
    "result = pd.DataFrame({'Actual':y_test, 'Predict':y_pred})\n",
    "result.head()"
   ]
  },
  {
   "cell_type": "markdown",
   "id": "e23d8049",
   "metadata": {},
   "source": [
    "We will plot the result using predicted dataframe, to see the result of the model prediction."
   ]
  },
  {
   "cell_type": "code",
   "execution_count": 25,
   "id": "147bde69",
   "metadata": {},
   "outputs": [
    {
     "data": {
      "image/png": "[encoded data removed]",
      "text/plain": [
       "<Figure size 2000x700 with 1 Axes>"
      ]
     },
     "metadata": {},
     "output_type": "display_data"
    }
   ],
   "source": [
    "result.plot(kind='bar', figsize=(20, 7))\n",
    "plt.show()"
   ]
  },
  {
   "cell_type": "markdown",
   "id": "200b6fd8",
   "metadata": {},
   "source": [
    "From the bar chart, most of the model prediction value is under the actual value."
   ]
  },
  {
   "cell_type": "markdown",
   "id": "6a099781",
   "metadata": {},
   "source": [
    "After plotting with bar chart we plot the prediction the actual value with scatter and the predicted value with plot to see how far the difference between predicted value and actual value."
   ]
  },
  {
   "cell_type": "code",
   "execution_count": 26,
   "id": "00c4d874",
   "metadata": {},
   "outputs": [
    {
     "data": {
      "image/png": "[encoded data removed]",
      "text/plain": [
       "<Figure size 1000x500 with 1 Axes>"
      ]
     },
     "metadata": {},
     "output_type": "display_data"
    }
   ],
   "source": [
    "df_ypred = pd.DataFrame(y_pred)\n",
    "plt.figure(figsize=(10,5))\n",
    "plt.scatter(X_test, y_test, color='r', label='Data Test')\n",
    "plt.plot(X_test.values, y_pred, label='Data Predict')\n",
    "plt.xlabel('Visitor')\n",
    "plt.ylabel('Buyer')\n",
    "plt.legend(loc='lower right');"
   ]
  },
  {
   "cell_type": "markdown",
   "id": "5fd952c0",
   "metadata": {},
   "source": [
    "From the chart we can see most of the model predicted value is under the actual value. And the increasing number of visitors, the **model prediction less accurately**."
   ]
  },
  {
   "cell_type": "markdown",
   "id": "cb3a1aa9",
   "metadata": {},
   "source": [
    "# Evaluate"
   ]
  },
  {
   "cell_type": "markdown",
   "id": "c81a0338",
   "metadata": {},
   "source": [
    "We evaluate the model we will use RMSE, MAE, MAPE, and R Square to see the model performance\n",
    "\n",
    "**Root Mean Square Error (RMSE)** is used to determine the magnitude of the prediction error rate. Where the smaller (closer to 0) the RMSE value, the more accurate the prediction results will be <br>\n",
    "**Mean Absolute Error (MAE)** is used to calculate the magnitude of the difference between predict and result <br>\n",
    "**Mean Absolute Percentage Error (MAPE)** is used to calculate the percentage of average absolute error <br>\n",
    "**r2** is coefficient of determination which shows how well the model fits the dependent variable"
   ]
  },
  {
   "cell_type": "code",
   "execution_count": 27,
   "id": "f9a73a54",
   "metadata": {},
   "outputs": [
    {
     "name": "stdout",
     "output_type": "stream",
     "text": [
      "RMSE\t: 2.9032768988296604 \n",
      "MEA \t: 2.30407177363699 \n",
      "MAPE \t: 0.06482235882578176 \n",
      "R2 \t: -0.17929580290702618\n"
     ]
    }
   ],
   "source": [
    "rmse = np.sqrt(mean_squared_error(y_test, y_pred))\n",
    "mea = mean_absolute_error(y_test, y_pred)\n",
    "mape = mean_absolute_percentage_error(y_test, y_pred)\n",
    "r2 = r2_score(y_test, y_pred)\n",
    "\n",
    "print('RMSE\\t:',rmse,'\\nMEA \\t:',mea, '\\nMAPE \\t:',mape, '\\nR2 \\t:',r2)"
   ]
  },
  {
   "cell_type": "markdown",
   "id": "13450190",
   "metadata": {},
   "source": [
    "Based on the evaluation that has been carried out, the results for the **RMSE is 2.9**, which means that the model does not predict accurately. The value of the difference between predict and result **(MAE) is 2.3**, with a **MAPE is 6%** which means the error value is quite low. And the last, for **R-Square with a value of -0.17** which means that between buyers and visitors, it shows that the two have a weak correlation."
   ]
  },
  {
   "cell_type": "markdown",
   "id": "a56b8e46",
   "metadata": {},
   "source": [
    "# Deployment"
   ]
  },
  {
   "cell_type": "markdown",
   "id": "93213846",
   "metadata": {},
   "source": [
    "We are started to deploy model using MLflow"
   ]
  },
  {
   "cell_type": "code",
   "execution_count": 28,
   "id": "3116d082",
   "metadata": {},
   "outputs": [
    {
     "name": "stdout",
     "output_type": "stream",
     "text": [
      "  RMSE: 2.9032768988296604\n",
      "  MAE: 2.30407177363699\n",
      "  MAPE: 0.06482235882578176\n",
      "  R2: -0.17929580290702618\n"
     ]
    }
   ],
   "source": [
    "# import library\n",
    "import os\n",
    "os.environ[\"GIT_PYTHON_REFRESH\"] = \"quiet\"\n",
    "import warnings\n",
    "import sys\n",
    "\n",
    "import pandas as pd\n",
    "import numpy as np\n",
    "\n",
    "from sklearn.linear_model import LinearRegression\n",
    "from sklearn.model_selection import train_test_split\n",
    "from sklearn.metrics import mean_squared_error, mean_absolute_error, mean_absolute_percentage_error, r2_score\n",
    "\n",
    "import warnings\n",
    "warnings.filterwarnings('ignore')\n",
    "\n",
    "from urllib.parse import urlparse\n",
    "\n",
    "import mlflow\n",
    "import mlflow.sklearn\n",
    "\n",
    "import logging\n",
    "\n",
    "# evaluation metrics\n",
    "def eval_metrics(actual, pred):\n",
    "    rmse = np.sqrt(mean_squared_error(actual, pred))\n",
    "    mae = mean_absolute_error(actual, pred)\n",
    "    mape = mean_absolute_percentage_error(actual, pred)\n",
    "    r2 = r2_score(actual, pred)\n",
    "    return rmse, mae, mape, r2\n",
    "\n",
    "\n",
    "# modeling\n",
    "with mlflow.start_run():\n",
    "    lr = LinearRegression()\n",
    "    lr.fit(X_train, y_train)\n",
    "    \n",
    "    y_pred = lr.predict(X_test)\n",
    "    \n",
    "    (rmse, mae, mape, r2) = eval_metrics(y_test, y_pred)\n",
    "    \n",
    "    print(\"  RMSE: %s\" % rmse)\n",
    "    print(\"  MAE: %s\" % mae)\n",
    "    print(\"  MAPE: %s\" % mape)\n",
    "    print(\"  R2: %s\" % r2)\n",
    "    \n",
    "    mlflow.log_metric(\"rmse\", rmse)\n",
    "    mlflow.log_metric(\"mae\", mae)\n",
    "    mlflow.log_metric(\"mape\", mape)\n",
    "    mlflow.log_metric(\"r2\", r2)\n",
    "    \n",
    "    tracking_url_type_store = urlparse(mlflow.get_tracking_uri()).scheme\n",
    "    \n",
    "    if tracking_url_type_store != \"file\":\n",
    "        mlflow.sklearn.log_model(lr, \"model\", registered_model_name=\"Linear Regression\")\n",
    "    else:\n",
    "        mlflow.sklearn.log_model(lr, \"model\")\n"
   ]
  },
  {
   "cell_type": "markdown",
   "id": "49b11abb",
   "metadata": {},
   "source": [
    "# Result"
   ]
  },
  {
   "cell_type": "markdown",
   "id": "9dec01f1",
   "metadata": {},
   "source": [
    "We assumed this dataset contains data visitors and buyer at supermarket within 30 days, the **average visitors** in a supermarket **up to 35 visitors per day**. When the supermarket **not crowded**, there are only about **29 people per day**. But when the **supermarket is crowded**, visitors can reach **up to 42 visitors per day**.\n",
    "Meanwhile the average of visitors who **make purchases up to 33 visitors**. When supermarket is **crowded, up to 38 people make purchases**. And only **29 visitors** make purchases when supermarket **not crowded**. \n",
    "\n",
    "In those 30 days it is known that **94.89% visitors make purchases** in supermarket. Whereas total visitors in supermarket up to 1056 visitors and total visitors make purchases up to 1002 visitors. \n",
    "\n",
    "In **22 days** there are supermarket visitors **who only look** at the products offered or called Wandering Customers. For **7 days** there are visitors who **buy more than 1 product** offered or called Loyal Customers. And only **1 day** visitors who actually **buy what they need** or called Need-Based Customers.\n",
    "\n",
    "Based on the evaluation that has been carried out, the results for the **RMSE is 2.9**, which means that the model does not predict accurately. The value of the difference between predict and result **(MAE) is 2.3**, with a **MAPE is 6%** which means the error value is quite low. And the last, for **R2 with a value of -0.17** which means that between buyers and visitors, it shows that the two have a weak correlation."
   ]
  },
  {
   "cell_type": "markdown",
   "id": "168bdd6d",
   "metadata": {},
   "source": [
    "# Recommendations"
   ]
  },
  {
   "cell_type": "markdown",
   "id": "d52580ae",
   "metadata": {},
   "source": [
    "Based on the supermarket visitor categories that have been determined, we suggest the business team to **attract the attention of the Wandering Customers** category by interacting to introduce existing production. This type of visitor will pay close attention to the offer and it is not impossible after an interaction occurs, they decide to buy the product. \n",
    "\n",
    "Then for the **Loyal Customers category**, we recommend the business team to **maintain product quality, improve the best service and provide attractive rewards**. Because we assume that Loyal Customers are already engaged with the services or products that have been provided so they are difficult to move to other supermarkets.\n",
    "\n",
    "And the last for the **Need-Based Customers category**, we recommend the business team to **build interest with visitor that the product matches with they needed**. So that we are expected they will purchase transaction process."
   ]
  },
  {
   "cell_type": "markdown",
   "id": "f5f12014",
   "metadata": {},
   "source": [
    "# Result Deployement"
   ]
  },
  {
   "cell_type": "markdown",
   "id": "44c21bc2",
   "metadata": {},
   "source": [
    "**MLflow** Tracking is an API and user interface component that records data about machine learning experiments and lets you query it. MLflow Tracking supports Python, as well as various APIs like REST, Java API, and R API.\n",
    "\n",
    "You can use this component to log several aspects of your runs. Here are the main components you can record for each of your runs:\n",
    "\n",
    "- Source : can be the name of the file that launches the run. Alternatively, if you are using an MLflow project, it can be the name of the project and entry point of the run.\n",
    "- Code version : when using an MLflow Project, this would be the Git commit hash.\n",
    "- Parameters : can be any key-value input parameters you choose, as long as the values and the keys are both strings.\n",
    "- Artifacts : are output files (in all formats). Artifacts let you record images, PNGs for example, models (such as pickled scikit-learn models), and data files such as Parquet files.\n",
    "- Start and end time : lets you record the start and end time of your run.\n",
    "- Metrics : let you record key-value metrics containing numeric values. It is possible to update each metric throughout the duration of a run. This lets you, for example, track how the loss function of the model is converging. Additionally, MLflow lets you visualize the full history of each metric."
   ]
  },
  {
   "cell_type": "markdown",
   "id": "277f60ff",
   "metadata": {},
   "source": [
    "This deployment we use MLflow to track the model and we get some result, the results of the metrix evaluation for **RMSE** the value it is 2.9032768988296604. For **MEA** it is 2.30407177363699 with a **MAPE** of 6%. And for **R2**, the value is -0.17929580290702618.\n",
    "\n",
    "The results of the evaluation matrix values in this deployment are the same as the evaluation values in the previous stage"
   ]
  },
  {
   "cell_type": "code",
   "execution_count": null,
   "id": "68810faa",
   "metadata": {},
   "outputs": [],
   "source": []
  }
 ],
 "metadata": {
  "kernelspec": {
   "display_name": "Python 3 (ipykernel)",
   "language": "python",
   "name": "python3"
  },
  "language_info": {
   "codemirror_mode": {
    "name": "ipython",
    "version": 3
   },
   "file_extension": ".py",
   "mimetype": "text/x-python",
   "name": "python",
   "nbconvert_exporter": "python",
   "pygments_lexer": "ipython3",
   "version": "3.9.13"
  }
 },
 "nbformat": 4,
 "nbformat_minor": 5
}
